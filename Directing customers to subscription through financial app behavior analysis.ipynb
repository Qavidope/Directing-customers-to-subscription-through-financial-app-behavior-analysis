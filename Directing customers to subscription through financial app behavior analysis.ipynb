{
 "cells": [
  {
   "cell_type": "markdown",
   "id": "64406688",
   "metadata": {},
   "source": [
    "# Directing Customers to Subscription Through Financial App Behavior Analysis "
   ]
  },
  {
   "cell_type": "code",
   "execution_count": null,
   "id": "57e612a0",
   "metadata": {},
   "outputs": [],
   "source": [
    "Goals of the Project :\n",
    "\n",
    "the \"FinTech \" company launch there android and Ios mobile base app and want to grow there business but "
   ]
  },
  {
   "cell_type": "markdown",
   "id": "0827ee64",
   "metadata": {},
   "source": [
    "Here the fintech company launches app and want to grow there business ,\n",
    "but there is a problem how to recomended this app and offer who really want to use it . \n",
    "\n",
    "So for that company desided to give free trail to each and every customer for 24 hours and \n",
    "collect data from the customers inthis senariao some customer purchase the app and\n",
    "\n",
    "someone not according to this data company want to give special offer to \n",
    "customer\n",
    "\n",
    "who are not interested to buy without offer and grow there business \n",
    "\n",
    "this is classficaiton prob"
   ]
  },
  {
   "cell_type": "markdown",
   "id": "32aca592",
   "metadata": {},
   "source": []
  },
  {
   "cell_type": "code",
   "execution_count": null,
   "id": "e2b455b1",
   "metadata": {},
   "outputs": [],
   "source": []
  },
  {
   "cell_type": "markdown",
   "id": "cca9d909",
   "metadata": {},
   "source": [
    "# Import essential libraries\n"
   ]
  },
  {
   "cell_type": "code",
   "execution_count": 7,
   "id": "553e0eae",
   "metadata": {},
   "outputs": [],
   "source": [
    "import numpy as np \n",
    "import pandas as pd \n",
    "import matplotlib.pyplot as plt\n",
    "import seaborn as sns\n",
    "from dateutil import parser #convert time in date time data type"
   ]
  },
  {
   "cell_type": "code",
   "execution_count": 8,
   "id": "9b234687",
   "metadata": {},
   "outputs": [],
   "source": [
    "finTech_appData=pd.read_csv(\"FineTech_appData (2).csv\")\n"
   ]
  },
  {
   "cell_type": "code",
   "execution_count": 9,
   "id": "60526f61",
   "metadata": {},
   "outputs": [
    {
     "data": {
      "text/plain": [
       "(50000, 12)"
      ]
     },
     "execution_count": 9,
     "metadata": {},
     "output_type": "execute_result"
    }
   ],
   "source": [
    "finTech_appData.shape"
   ]
  },
  {
   "cell_type": "code",
   "execution_count": 10,
   "id": "4f955721",
   "metadata": {},
   "outputs": [
    {
     "data": {
      "text/html": [
       "<div>\n",
       "<style scoped>\n",
       "    .dataframe tbody tr th:only-of-type {\n",
       "        vertical-align: middle;\n",
       "    }\n",
       "\n",
       "    .dataframe tbody tr th {\n",
       "        vertical-align: top;\n",
       "    }\n",
       "\n",
       "    .dataframe thead th {\n",
       "        text-align: right;\n",
       "    }\n",
       "</style>\n",
       "<table border=\"1\" class=\"dataframe\">\n",
       "  <thead>\n",
       "    <tr style=\"text-align: right;\">\n",
       "      <th></th>\n",
       "      <th>user</th>\n",
       "      <th>first_open</th>\n",
       "      <th>dayofweek</th>\n",
       "      <th>hour</th>\n",
       "      <th>age</th>\n",
       "      <th>screen_list</th>\n",
       "      <th>numscreens</th>\n",
       "      <th>minigame</th>\n",
       "      <th>used_premium_feature</th>\n",
       "      <th>enrolled</th>\n",
       "      <th>enrolled_date</th>\n",
       "      <th>liked</th>\n",
       "    </tr>\n",
       "  </thead>\n",
       "  <tbody>\n",
       "    <tr>\n",
       "      <th>0</th>\n",
       "      <td>235136</td>\n",
       "      <td>2012-12-27 02:14:51.273</td>\n",
       "      <td>3</td>\n",
       "      <td>02:00:00</td>\n",
       "      <td>23</td>\n",
       "      <td>idscreen,joinscreen,Cycle,product_review,ScanP...</td>\n",
       "      <td>15</td>\n",
       "      <td>0</td>\n",
       "      <td>0</td>\n",
       "      <td>0</td>\n",
       "      <td>NaN</td>\n",
       "      <td>0</td>\n",
       "    </tr>\n",
       "    <tr>\n",
       "      <th>1</th>\n",
       "      <td>333588</td>\n",
       "      <td>2012-12-02 01:16:00.905</td>\n",
       "      <td>6</td>\n",
       "      <td>01:00:00</td>\n",
       "      <td>24</td>\n",
       "      <td>joinscreen,product_review,product_review2,Scan...</td>\n",
       "      <td>13</td>\n",
       "      <td>0</td>\n",
       "      <td>0</td>\n",
       "      <td>0</td>\n",
       "      <td>NaN</td>\n",
       "      <td>0</td>\n",
       "    </tr>\n",
       "    <tr>\n",
       "      <th>2</th>\n",
       "      <td>254414</td>\n",
       "      <td>2013-03-19 19:19:09.157</td>\n",
       "      <td>1</td>\n",
       "      <td>19:00:00</td>\n",
       "      <td>23</td>\n",
       "      <td>Splash,Cycle,Loan</td>\n",
       "      <td>3</td>\n",
       "      <td>0</td>\n",
       "      <td>1</td>\n",
       "      <td>0</td>\n",
       "      <td>NaN</td>\n",
       "      <td>1</td>\n",
       "    </tr>\n",
       "    <tr>\n",
       "      <th>3</th>\n",
       "      <td>234192</td>\n",
       "      <td>2013-07-05 16:08:46.354</td>\n",
       "      <td>4</td>\n",
       "      <td>16:00:00</td>\n",
       "      <td>28</td>\n",
       "      <td>product_review,Home,product_review,Loan3,Finan...</td>\n",
       "      <td>40</td>\n",
       "      <td>0</td>\n",
       "      <td>0</td>\n",
       "      <td>1</td>\n",
       "      <td>2013-07-05 16:11:49.513</td>\n",
       "      <td>0</td>\n",
       "    </tr>\n",
       "    <tr>\n",
       "      <th>4</th>\n",
       "      <td>51549</td>\n",
       "      <td>2013-02-26 18:50:48.661</td>\n",
       "      <td>1</td>\n",
       "      <td>18:00:00</td>\n",
       "      <td>31</td>\n",
       "      <td>idscreen,joinscreen,Cycle,Credit3Container,Sca...</td>\n",
       "      <td>32</td>\n",
       "      <td>0</td>\n",
       "      <td>0</td>\n",
       "      <td>1</td>\n",
       "      <td>2013-02-26 18:56:37.841</td>\n",
       "      <td>1</td>\n",
       "    </tr>\n",
       "  </tbody>\n",
       "</table>\n",
       "</div>"
      ],
      "text/plain": [
       "     user               first_open  dayofweek       hour  age  \\\n",
       "0  235136  2012-12-27 02:14:51.273          3   02:00:00   23   \n",
       "1  333588  2012-12-02 01:16:00.905          6   01:00:00   24   \n",
       "2  254414  2013-03-19 19:19:09.157          1   19:00:00   23   \n",
       "3  234192  2013-07-05 16:08:46.354          4   16:00:00   28   \n",
       "4   51549  2013-02-26 18:50:48.661          1   18:00:00   31   \n",
       "\n",
       "                                         screen_list  numscreens  minigame  \\\n",
       "0  idscreen,joinscreen,Cycle,product_review,ScanP...          15         0   \n",
       "1  joinscreen,product_review,product_review2,Scan...          13         0   \n",
       "2                                  Splash,Cycle,Loan           3         0   \n",
       "3  product_review,Home,product_review,Loan3,Finan...          40         0   \n",
       "4  idscreen,joinscreen,Cycle,Credit3Container,Sca...          32         0   \n",
       "\n",
       "   used_premium_feature  enrolled            enrolled_date  liked  \n",
       "0                     0         0                      NaN      0  \n",
       "1                     0         0                      NaN      0  \n",
       "2                     1         0                      NaN      1  \n",
       "3                     0         1  2013-07-05 16:11:49.513      0  \n",
       "4                     0         1  2013-02-26 18:56:37.841      1  "
      ]
     },
     "execution_count": 10,
     "metadata": {},
     "output_type": "execute_result"
    }
   ],
   "source": [
    "finTech_appData.head()"
   ]
  },
  {
   "cell_type": "code",
   "execution_count": null,
   "id": "775a2d09",
   "metadata": {},
   "outputs": [],
   "source": []
  },
  {
   "cell_type": "code",
   "execution_count": 6,
   "id": "5446b517",
   "metadata": {},
   "outputs": [
    {
     "name": "stdout",
     "output_type": "stream",
     "text": [
      "idscreen,joinscreen,Cycle,product_review,ScanPreview,VerifyDateOfBirth,VerifyPhone,VerifyToken,ProfileVerifySSN,Loan2,Settings,ForgotPassword,Login \n",
      "\n",
      "joinscreen,product_review,product_review2,ScanPreview,VerifyDateOfBirth,location,VerifyCountry,VerifyPhone,VerifyToken,Institutions,Loan2 \n",
      "\n",
      "Splash,Cycle,Loan \n",
      "\n",
      "product_review,Home,product_review,Loan3,Finances,Credit3,ReferralContainer,Leaderboard,Rewards,RewardDetail,ScanPreview,location,VerifyDateOfBirth,VerifyPhone,VerifySSN,Credit1,Credit2 \n",
      "\n",
      "idscreen,joinscreen,Cycle,Credit3Container,ScanPreview,VerifyPhone,VerifySSN,Credit1,Loan2,Home,Institutions,SelectInstitution,BankVerification,ReferralContainer,product_review,product_review2,VerifyCountry,VerifyToken,product_review \n",
      "\n",
      "idscreen,Cycle,Home,ScanPreview,VerifyPhone,VerifySSN,Credit1,Credit3Dashboard,Loan2,Institutions,product_review,product_review,product_review3 \n",
      "\n",
      "product_review,product_review2,ScanPreview \n",
      "\n"
     ]
    }
   ],
   "source": [
    "#printing screen_list coloumn full \n",
    "\n",
    "for i in [0,1,2,3,4,5,6]:\n",
    "    print(finTech_appData.loc[i,'screen_list'],'\\n')"
   ]
  },
  {
   "cell_type": "code",
   "execution_count": null,
   "id": "15d1d7c8",
   "metadata": {},
   "outputs": [],
   "source": [
    "finTech_appData.head()"
   ]
  },
  {
   "cell_type": "code",
   "execution_count": null,
   "id": "d0ee01cc",
   "metadata": {},
   "outputs": [],
   "source": [
    "#Now understand the whole dtaset  >\n",
    "\n",
    "#user :unique id \n",
    "\n",
    "#first_open :date(yy-mm-dd) and time (hour:minute:sec:millisecond) \n",
    "\n",
    "#dayofweek:0-sunday,1-mon,2-tue,3-wed\n",
    "\n",
    "#hour:24 hour format\n",
    "\n",
    "#age:registerd user age\n",
    "\n",
    "#screen_list:name of no.of screens seen by customers \n",
    "\n",
    "#numscreens:total no.of screens seen by customers\n",
    "\n",
    "#minigame:the app contains games related to finance if cutomer play that game then 1 or else 0\n",
    "\n",
    "#used_premium_feature:if customer used the premium feature of app then 1 or else 0\n",
    "\n",
    "#enrolled:if user bought a premium feature app then 1  or else 0\n",
    "\n",
    "#enrolled_date: date (yy-mm--dd) and time (hour:minute:seconds:milliseconds) the user bought a premium features app\n",
    "\n",
    "#liked:the each screen of app has like button if the customer likes it then 1 or else 0\n"
   ]
  },
  {
   "cell_type": "code",
   "execution_count": null,
   "id": "cd22cf8d",
   "metadata": {},
   "outputs": [],
   "source": [
    "#finding the null value in dataset\n",
    "finTech_appData.isnull().sum()"
   ]
  },
  {
   "cell_type": "code",
   "execution_count": null,
   "id": "8fda1fbc",
   "metadata": {},
   "outputs": [],
   "source": [
    "finTech_appData.info()"
   ]
  },
  {
   "cell_type": "code",
   "execution_count": null,
   "id": "d78d3f78",
   "metadata": {},
   "outputs": [],
   "source": [
    "finTech_appData.describe()"
   ]
  },
  {
   "cell_type": "code",
   "execution_count": null,
   "id": "eb10a5eb",
   "metadata": {},
   "outputs": [],
   "source": [
    "#From the output, we can know more about the dataset. \n",
    "#The mean age of the customer is 31.72. \n",
    "#Only 10.7% of customers played minigame and\n",
    "#17.2% customer used premium features of the app,\n",
    "#likes 16.5 %. \n",
    "#The 62.1% customer enrolled in the premium app"
   ]
  },
  {
   "cell_type": "code",
   "execution_count": null,
   "id": "f54b2b10",
   "metadata": {},
   "outputs": [],
   "source": [
    "finTech_appData.head()"
   ]
  },
  {
   "cell_type": "code",
   "execution_count": null,
   "id": "a835fc69",
   "metadata": {
    "scrolled": false
   },
   "outputs": [],
   "source": [
    "features = finTech_appData.columns\n",
    "for i in features:\n",
    "    \n",
    "    print(\"Unique value of {} \\n  {} \\nlength  is {} \\n...............\\n\"\n",
    "          .format(i,finTech_appData[i].unique(), len(finTech_appData[i].unique()) )   )\n",
    "\n"
   ]
  },
  {
   "cell_type": "code",
   "execution_count": null,
   "id": "18831981",
   "metadata": {},
   "outputs": [],
   "source": []
  },
  {
   "cell_type": "code",
   "execution_count": null,
   "id": "ca92afc9",
   "metadata": {},
   "outputs": [],
   "source": [
    "#  hour data convert string to int  >>>  finTech_appData.hour.str.slice(1,3).astype(int)\n",
    "#\n",
    "\n",
    "# get data type of each columns\n",
    "finTech_appData.dtypes"
   ]
  },
  {
   "cell_type": "code",
   "execution_count": null,
   "id": "985c0067",
   "metadata": {},
   "outputs": [],
   "source": [
    "finTech_appData['hour']=finTech_appData.hour.str.slice(1,3).astype(int)"
   ]
  },
  {
   "cell_type": "code",
   "execution_count": null,
   "id": "7787ca8c",
   "metadata": {},
   "outputs": [],
   "source": [
    "#To visualize the data need numeric values for that we drop some columns that datatype is the object."
   ]
  },
  {
   "cell_type": "code",
   "execution_count": 97,
   "id": "061dcd3d",
   "metadata": {},
   "outputs": [
    {
     "data": {
      "text/plain": [
       "user                       int64\n",
       "dayofweek                  int64\n",
       "hour                       int32\n",
       "age                        int64\n",
       "numscreens                 int64\n",
       "minigame                   int64\n",
       "used_premium_feature       int64\n",
       "liked                      int64\n",
       "Loan2                      int32\n",
       "location                   int32\n",
       "Institutions               int32\n",
       "VerifyPhone                int32\n",
       "BankVerification           int32\n",
       "VerifyDateOfBirth          int32\n",
       "ProfilePage                int32\n",
       "VerifyCountry              int32\n",
       "Cycle                      int32\n",
       "idscreen                   int32\n",
       "Loan3                      int32\n",
       "Splash                     int32\n",
       "Loan                       int32\n",
       "RewardsContainer           int32\n",
       "EditProfile                int32\n",
       "Finances                   int32\n",
       "Alerts                     int32\n",
       "Leaderboard                int32\n",
       "VerifyMobile               int32\n",
       "VerifyHousing              int32\n",
       "RewardDetail               int32\n",
       "VerifyHousingAmount        int32\n",
       "ProfileMaritalStatus       int32\n",
       "ProfileChildren            int32\n",
       "ProfileEducation           int32\n",
       "ProfileEducationMajor      int32\n",
       "Rewards                    int32\n",
       "AccountView                int32\n",
       "VerifyAnnualIncome         int32\n",
       "VerifyIncomeType           int32\n",
       "ProfileJobTitle            int32\n",
       "Login                      int32\n",
       "ProfileEmploymentLength    int32\n",
       "WebView                    int32\n",
       "SecurityModal              int32\n",
       "Loan4                      int32\n",
       "ResendToken                int32\n",
       "TransactionList            int32\n",
       "NetworkFailure             int32\n",
       "ListPicker                 int32\n",
       "remain_screen_list         int64\n",
       "saving_screens_count       int64\n",
       "credit_screens_count       int64\n",
       "cc_screens_count           int64\n",
       "dtype: object"
      ]
     },
     "execution_count": 97,
     "metadata": {},
     "output_type": "execute_result"
    }
   ],
   "source": [
    "finTech_appData.dtypes"
   ]
  },
  {
   "cell_type": "code",
   "execution_count": 98,
   "id": "80d6b098",
   "metadata": {},
   "outputs": [
    {
     "data": {
      "text/plain": [
       "Index(['user', 'dayofweek', 'hour', 'age', 'numscreens', 'minigame',\n",
       "       'used_premium_feature', 'liked', 'Loan2', 'location', 'Institutions',\n",
       "       'VerifyPhone', 'BankVerification', 'VerifyDateOfBirth', 'ProfilePage',\n",
       "       'VerifyCountry', 'Cycle', 'idscreen', 'Loan3', 'Splash', 'Loan',\n",
       "       'RewardsContainer', 'EditProfile', 'Finances', 'Alerts', 'Leaderboard',\n",
       "       'VerifyMobile', 'VerifyHousing', 'RewardDetail', 'VerifyHousingAmount',\n",
       "       'ProfileMaritalStatus', 'ProfileChildren ', 'ProfileEducation',\n",
       "       'ProfileEducationMajor', 'Rewards', 'AccountView', 'VerifyAnnualIncome',\n",
       "       'VerifyIncomeType', 'ProfileJobTitle', 'Login',\n",
       "       'ProfileEmploymentLength', 'WebView', 'SecurityModal', 'Loan4',\n",
       "       'ResendToken', 'TransactionList', 'NetworkFailure', 'ListPicker',\n",
       "       'remain_screen_list', 'saving_screens_count', 'credit_screens_count',\n",
       "       'cc_screens_count'],\n",
       "      dtype='object')"
      ]
     },
     "execution_count": 98,
     "metadata": {},
     "output_type": "execute_result"
    }
   ],
   "source": [
    "finTech_appData.columns"
   ]
  },
  {
   "cell_type": "code",
   "execution_count": 99,
   "id": "763e0b37",
   "metadata": {},
   "outputs": [
    {
     "ename": "KeyError",
     "evalue": "\"['first_open' 'screen_list' 'enrolled_date'] not found in axis\"",
     "output_type": "error",
     "traceback": [
      "\u001b[1;31m---------------------------------------------------------------------------\u001b[0m",
      "\u001b[1;31mKeyError\u001b[0m                                  Traceback (most recent call last)",
      "Cell \u001b[1;32mIn [99], line 1\u001b[0m\n\u001b[1;32m----> 1\u001b[0m finTech_appData2 \u001b[38;5;241m=\u001b[39m \u001b[43mfinTech_appData\u001b[49m\u001b[38;5;241;43m.\u001b[39;49m\u001b[43mdrop\u001b[49m\u001b[43m(\u001b[49m\u001b[43m[\u001b[49m\u001b[43m \u001b[49m\u001b[38;5;124;43m'\u001b[39;49m\u001b[38;5;124;43muser\u001b[39;49m\u001b[38;5;124;43m'\u001b[39;49m\u001b[43m,\u001b[49m\u001b[38;5;124;43m'\u001b[39;49m\u001b[38;5;124;43mfirst_open\u001b[39;49m\u001b[38;5;124;43m'\u001b[39;49m\u001b[43m,\u001b[49m\u001b[43m \u001b[49m\u001b[38;5;124;43m'\u001b[39;49m\u001b[38;5;124;43mscreen_list\u001b[39;49m\u001b[38;5;124;43m'\u001b[39;49m\u001b[43m,\u001b[49m\u001b[43m \u001b[49m\u001b[38;5;124;43m'\u001b[39;49m\u001b[38;5;124;43menrolled_date\u001b[39;49m\u001b[38;5;124;43m'\u001b[39;49m\u001b[43m]\u001b[49m\u001b[43m,\u001b[49m\u001b[43m \u001b[49m\u001b[43maxis\u001b[49m\u001b[43m \u001b[49m\u001b[38;5;241;43m=\u001b[39;49m\u001b[43m \u001b[49m\u001b[38;5;241;43m1\u001b[39;49m\u001b[43m)\u001b[49m\n\u001b[0;32m      4\u001b[0m finTech_appData2\u001b[38;5;241m.\u001b[39mhead(\u001b[38;5;241m6\u001b[39m)\n\u001b[0;32m      7\u001b[0m \u001b[38;5;66;03m#droping object type of data and user id \u001b[39;00m\n",
      "File \u001b[1;32m~\\anaconda3\\lib\\site-packages\\pandas\\util\\_decorators.py:311\u001b[0m, in \u001b[0;36mdeprecate_nonkeyword_arguments.<locals>.decorate.<locals>.wrapper\u001b[1;34m(*args, **kwargs)\u001b[0m\n\u001b[0;32m    305\u001b[0m \u001b[38;5;28;01mif\u001b[39;00m \u001b[38;5;28mlen\u001b[39m(args) \u001b[38;5;241m>\u001b[39m num_allow_args:\n\u001b[0;32m    306\u001b[0m     warnings\u001b[38;5;241m.\u001b[39mwarn(\n\u001b[0;32m    307\u001b[0m         msg\u001b[38;5;241m.\u001b[39mformat(arguments\u001b[38;5;241m=\u001b[39marguments),\n\u001b[0;32m    308\u001b[0m         \u001b[38;5;167;01mFutureWarning\u001b[39;00m,\n\u001b[0;32m    309\u001b[0m         stacklevel\u001b[38;5;241m=\u001b[39mstacklevel,\n\u001b[0;32m    310\u001b[0m     )\n\u001b[1;32m--> 311\u001b[0m \u001b[38;5;28;01mreturn\u001b[39;00m func(\u001b[38;5;241m*\u001b[39margs, \u001b[38;5;241m*\u001b[39m\u001b[38;5;241m*\u001b[39mkwargs)\n",
      "File \u001b[1;32m~\\anaconda3\\lib\\site-packages\\pandas\\core\\frame.py:4906\u001b[0m, in \u001b[0;36mDataFrame.drop\u001b[1;34m(self, labels, axis, index, columns, level, inplace, errors)\u001b[0m\n\u001b[0;32m   4774\u001b[0m \u001b[38;5;129m@deprecate_nonkeyword_arguments\u001b[39m(version\u001b[38;5;241m=\u001b[39m\u001b[38;5;28;01mNone\u001b[39;00m, allowed_args\u001b[38;5;241m=\u001b[39m[\u001b[38;5;124m\"\u001b[39m\u001b[38;5;124mself\u001b[39m\u001b[38;5;124m\"\u001b[39m, \u001b[38;5;124m\"\u001b[39m\u001b[38;5;124mlabels\u001b[39m\u001b[38;5;124m\"\u001b[39m])\n\u001b[0;32m   4775\u001b[0m \u001b[38;5;28;01mdef\u001b[39;00m \u001b[38;5;21mdrop\u001b[39m(\n\u001b[0;32m   4776\u001b[0m     \u001b[38;5;28mself\u001b[39m,\n\u001b[1;32m   (...)\u001b[0m\n\u001b[0;32m   4783\u001b[0m     errors: \u001b[38;5;28mstr\u001b[39m \u001b[38;5;241m=\u001b[39m \u001b[38;5;124m\"\u001b[39m\u001b[38;5;124mraise\u001b[39m\u001b[38;5;124m\"\u001b[39m,\n\u001b[0;32m   4784\u001b[0m ):\n\u001b[0;32m   4785\u001b[0m     \u001b[38;5;124;03m\"\"\"\u001b[39;00m\n\u001b[0;32m   4786\u001b[0m \u001b[38;5;124;03m    Drop specified labels from rows or columns.\u001b[39;00m\n\u001b[0;32m   4787\u001b[0m \n\u001b[1;32m   (...)\u001b[0m\n\u001b[0;32m   4904\u001b[0m \u001b[38;5;124;03m            weight  1.0     0.8\u001b[39;00m\n\u001b[0;32m   4905\u001b[0m \u001b[38;5;124;03m    \"\"\"\u001b[39;00m\n\u001b[1;32m-> 4906\u001b[0m     \u001b[38;5;28;01mreturn\u001b[39;00m \u001b[38;5;28;43msuper\u001b[39;49m\u001b[43m(\u001b[49m\u001b[43m)\u001b[49m\u001b[38;5;241;43m.\u001b[39;49m\u001b[43mdrop\u001b[49m\u001b[43m(\u001b[49m\n\u001b[0;32m   4907\u001b[0m \u001b[43m        \u001b[49m\u001b[43mlabels\u001b[49m\u001b[38;5;241;43m=\u001b[39;49m\u001b[43mlabels\u001b[49m\u001b[43m,\u001b[49m\n\u001b[0;32m   4908\u001b[0m \u001b[43m        \u001b[49m\u001b[43maxis\u001b[49m\u001b[38;5;241;43m=\u001b[39;49m\u001b[43maxis\u001b[49m\u001b[43m,\u001b[49m\n\u001b[0;32m   4909\u001b[0m \u001b[43m        \u001b[49m\u001b[43mindex\u001b[49m\u001b[38;5;241;43m=\u001b[39;49m\u001b[43mindex\u001b[49m\u001b[43m,\u001b[49m\n\u001b[0;32m   4910\u001b[0m \u001b[43m        \u001b[49m\u001b[43mcolumns\u001b[49m\u001b[38;5;241;43m=\u001b[39;49m\u001b[43mcolumns\u001b[49m\u001b[43m,\u001b[49m\n\u001b[0;32m   4911\u001b[0m \u001b[43m        \u001b[49m\u001b[43mlevel\u001b[49m\u001b[38;5;241;43m=\u001b[39;49m\u001b[43mlevel\u001b[49m\u001b[43m,\u001b[49m\n\u001b[0;32m   4912\u001b[0m \u001b[43m        \u001b[49m\u001b[43minplace\u001b[49m\u001b[38;5;241;43m=\u001b[39;49m\u001b[43minplace\u001b[49m\u001b[43m,\u001b[49m\n\u001b[0;32m   4913\u001b[0m \u001b[43m        \u001b[49m\u001b[43merrors\u001b[49m\u001b[38;5;241;43m=\u001b[39;49m\u001b[43merrors\u001b[49m\u001b[43m,\u001b[49m\n\u001b[0;32m   4914\u001b[0m \u001b[43m    \u001b[49m\u001b[43m)\u001b[49m\n",
      "File \u001b[1;32m~\\anaconda3\\lib\\site-packages\\pandas\\core\\generic.py:4150\u001b[0m, in \u001b[0;36mNDFrame.drop\u001b[1;34m(self, labels, axis, index, columns, level, inplace, errors)\u001b[0m\n\u001b[0;32m   4148\u001b[0m \u001b[38;5;28;01mfor\u001b[39;00m axis, labels \u001b[38;5;129;01min\u001b[39;00m axes\u001b[38;5;241m.\u001b[39mitems():\n\u001b[0;32m   4149\u001b[0m     \u001b[38;5;28;01mif\u001b[39;00m labels \u001b[38;5;129;01mis\u001b[39;00m \u001b[38;5;129;01mnot\u001b[39;00m \u001b[38;5;28;01mNone\u001b[39;00m:\n\u001b[1;32m-> 4150\u001b[0m         obj \u001b[38;5;241m=\u001b[39m \u001b[43mobj\u001b[49m\u001b[38;5;241;43m.\u001b[39;49m\u001b[43m_drop_axis\u001b[49m\u001b[43m(\u001b[49m\u001b[43mlabels\u001b[49m\u001b[43m,\u001b[49m\u001b[43m \u001b[49m\u001b[43maxis\u001b[49m\u001b[43m,\u001b[49m\u001b[43m \u001b[49m\u001b[43mlevel\u001b[49m\u001b[38;5;241;43m=\u001b[39;49m\u001b[43mlevel\u001b[49m\u001b[43m,\u001b[49m\u001b[43m \u001b[49m\u001b[43merrors\u001b[49m\u001b[38;5;241;43m=\u001b[39;49m\u001b[43merrors\u001b[49m\u001b[43m)\u001b[49m\n\u001b[0;32m   4152\u001b[0m \u001b[38;5;28;01mif\u001b[39;00m inplace:\n\u001b[0;32m   4153\u001b[0m     \u001b[38;5;28mself\u001b[39m\u001b[38;5;241m.\u001b[39m_update_inplace(obj)\n",
      "File \u001b[1;32m~\\anaconda3\\lib\\site-packages\\pandas\\core\\generic.py:4185\u001b[0m, in \u001b[0;36mNDFrame._drop_axis\u001b[1;34m(self, labels, axis, level, errors)\u001b[0m\n\u001b[0;32m   4183\u001b[0m         new_axis \u001b[38;5;241m=\u001b[39m axis\u001b[38;5;241m.\u001b[39mdrop(labels, level\u001b[38;5;241m=\u001b[39mlevel, errors\u001b[38;5;241m=\u001b[39merrors)\n\u001b[0;32m   4184\u001b[0m     \u001b[38;5;28;01melse\u001b[39;00m:\n\u001b[1;32m-> 4185\u001b[0m         new_axis \u001b[38;5;241m=\u001b[39m \u001b[43maxis\u001b[49m\u001b[38;5;241;43m.\u001b[39;49m\u001b[43mdrop\u001b[49m\u001b[43m(\u001b[49m\u001b[43mlabels\u001b[49m\u001b[43m,\u001b[49m\u001b[43m \u001b[49m\u001b[43merrors\u001b[49m\u001b[38;5;241;43m=\u001b[39;49m\u001b[43merrors\u001b[49m\u001b[43m)\u001b[49m\n\u001b[0;32m   4186\u001b[0m     result \u001b[38;5;241m=\u001b[39m \u001b[38;5;28mself\u001b[39m\u001b[38;5;241m.\u001b[39mreindex(\u001b[38;5;241m*\u001b[39m\u001b[38;5;241m*\u001b[39m{axis_name: new_axis})\n\u001b[0;32m   4188\u001b[0m \u001b[38;5;66;03m# Case for non-unique axis\u001b[39;00m\n\u001b[0;32m   4189\u001b[0m \u001b[38;5;28;01melse\u001b[39;00m:\n",
      "File \u001b[1;32m~\\anaconda3\\lib\\site-packages\\pandas\\core\\indexes\\base.py:6017\u001b[0m, in \u001b[0;36mIndex.drop\u001b[1;34m(self, labels, errors)\u001b[0m\n\u001b[0;32m   6015\u001b[0m \u001b[38;5;28;01mif\u001b[39;00m mask\u001b[38;5;241m.\u001b[39many():\n\u001b[0;32m   6016\u001b[0m     \u001b[38;5;28;01mif\u001b[39;00m errors \u001b[38;5;241m!=\u001b[39m \u001b[38;5;124m\"\u001b[39m\u001b[38;5;124mignore\u001b[39m\u001b[38;5;124m\"\u001b[39m:\n\u001b[1;32m-> 6017\u001b[0m         \u001b[38;5;28;01mraise\u001b[39;00m \u001b[38;5;167;01mKeyError\u001b[39;00m(\u001b[38;5;124mf\u001b[39m\u001b[38;5;124m\"\u001b[39m\u001b[38;5;132;01m{\u001b[39;00mlabels[mask]\u001b[38;5;132;01m}\u001b[39;00m\u001b[38;5;124m not found in axis\u001b[39m\u001b[38;5;124m\"\u001b[39m)\n\u001b[0;32m   6018\u001b[0m     indexer \u001b[38;5;241m=\u001b[39m indexer[\u001b[38;5;241m~\u001b[39mmask]\n\u001b[0;32m   6019\u001b[0m \u001b[38;5;28;01mreturn\u001b[39;00m \u001b[38;5;28mself\u001b[39m\u001b[38;5;241m.\u001b[39mdelete(indexer)\n",
      "\u001b[1;31mKeyError\u001b[0m: \"['first_open' 'screen_list' 'enrolled_date'] not found in axis\""
     ]
    }
   ],
   "source": [
    "finTech_appData2 = finTech_appData.drop([ 'user','first_open', 'screen_list', 'enrolled_date'], axis = 1)\n",
    "\n",
    "\n",
    "finTech_appData2.head(6)\n",
    "\n",
    "\n",
    "#droping object type of data and user id "
   ]
  },
  {
   "cell_type": "code",
   "execution_count": null,
   "id": "d9d715bc",
   "metadata": {},
   "outputs": [],
   "source": []
  },
  {
   "cell_type": "markdown",
   "id": "99e52bb9",
   "metadata": {},
   "source": [
    "# Data Visualization  "
   ]
  },
  {
   "cell_type": "code",
   "execution_count": null,
   "id": "8e8308c3",
   "metadata": {},
   "outputs": [],
   "source": [
    "finTech_appData2"
   ]
  },
  {
   "cell_type": "markdown",
   "id": "489b5357",
   "metadata": {},
   "source": [
    "Data visualization\n",
    "\n",
    "# heatmap uses find the correlation btw each and every features using the correlation matrix "
   ]
  },
  {
   "cell_type": "code",
   "execution_count": null,
   "id": "2424559a",
   "metadata": {
    "scrolled": true
   },
   "outputs": [],
   "source": [
    "plt.figure(figsize=(8,8))\n",
    "sns.heatmap( finTech_appData2.corr(), annot=True, cmap='coolwarm')\n",
    "plt.title(\"Heatmap using correlation matrix of fineTech_appData2\", fontsize = 19) \n",
    "# title of heatmap\n"
   ]
  },
  {
   "cell_type": "markdown",
   "id": "164cac05",
   "metadata": {},
   "source": [
    "#In the fineTech_appData2 dataset, there is no strong correlation between any features. \n",
    "\n",
    "There is little correlation between ‘numscreens’ and ‘enrolled’. \n",
    "[It means that those customers saw more screen they are taking premium app.]\n",
    "\n",
    "There is a  correlation between ‘minigame’ with ‘enrolled’ and ‘used_premium_feature’. \n",
    "\n",
    "The slightly negative correlation between ‘age’ with ‘enrolled’ and ‘numscreens’.\n",
    "[ It means that older customers do not use the premium app and they don’t see multiple screens.]"
   ]
  },
  {
   "cell_type": "markdown",
   "id": "83e9084f",
   "metadata": {},
   "source": [
    "# pairplot  "
   ]
  },
  {
   "cell_type": "code",
   "execution_count": null,
   "id": "079d862c",
   "metadata": {},
   "outputs": [],
   "source": []
  },
  {
   "cell_type": "code",
   "execution_count": null,
   "id": "2cc8bfcd",
   "metadata": {},
   "outputs": [],
   "source": [
    "finTech_appData.head()"
   ]
  },
  {
   "cell_type": "markdown",
   "id": "50fc81c8",
   "metadata": {},
   "source": [
    "# This illustrate that there is a correlation between 'numscreens' and 'enrolled' this means those customers watch more screen they are taking premium app.\n",
    "and \n",
    "# There is a slight correlation between 'minigame \" with 'enrolled 'and 'used_premium_feature'.\n",
    "# The slightly negative correlation between 'age' with 'enrolled'and 'numscreens''"
   ]
  },
  {
   "cell_type": "code",
   "execution_count": null,
   "id": "6bf59246",
   "metadata": {
    "scrolled": true
   },
   "outputs": [],
   "source": [
    "\n",
    "# Pailplot of fineTech_appData2 Dataset\n",
    " \n",
    "#%matplotlib qt5 # for show graph in seperate window\n",
    "sns.pairplot(finTech_appData2, hue  = 'enrolled')\n",
    "# 1 means enrolled \n",
    "# 0 menas not enrolled "
   ]
  },
  {
   "cell_type": "code",
   "execution_count": null,
   "id": "b51a1719",
   "metadata": {},
   "outputs": [],
   "source": []
  },
  {
   "cell_type": "code",
   "execution_count": null,
   "id": "c4bdd887",
   "metadata": {},
   "outputs": [],
   "source": [
    "#In pair plot we can,see the maximum features have two values like 0 and 1 and \n",
    "#orange dots show the enrolled customers features.\n",
    "#so we visualize the counterplot of enrolled data"
   ]
  },
  {
   "cell_type": "markdown",
   "id": "5c5ba6ba",
   "metadata": {},
   "source": [
    "# Countplot of enrolled"
   ]
  },
  {
   "cell_type": "code",
   "execution_count": null,
   "id": "37fcb236",
   "metadata": {},
   "outputs": [],
   "source": [
    "sns.countplot(finTech_appData.enrolled)"
   ]
  },
  {
   "cell_type": "code",
   "execution_count": null,
   "id": "ab13c02d",
   "metadata": {},
   "outputs": [],
   "source": []
  },
  {
   "cell_type": "code",
   "execution_count": null,
   "id": "fc6faa76",
   "metadata": {
    "scrolled": true
   },
   "outputs": [],
   "source": [
    "# value enrolled and not enrolled customers\n",
    "print(\"Not Enrolled user = \", (finTech_appData.enrolled < 1).sum(), \"out of 50000\")\n",
    "print(\"Enrolled     user = \",50000-(finTech_appData.enrolled <1).sum(),  \"out of 50000\")"
   ]
  },
  {
   "cell_type": "markdown",
   "id": "bc971e77",
   "metadata": {},
   "source": [
    "\n",
    "# Histogram\n"
   ]
  },
  {
   "cell_type": "markdown",
   "id": "8db92027",
   "metadata": {},
   "source": [
    "Histogram of each feature of finTech_appData2\n"
   ]
  },
  {
   "cell_type": "code",
   "execution_count": null,
   "id": "f728c4d6",
   "metadata": {},
   "outputs": [],
   "source": []
  },
  {
   "cell_type": "code",
   "execution_count": null,
   "id": "93263f86",
   "metadata": {},
   "outputs": [],
   "source": [
    "plt.figure(figsize=(16,8))\n",
    "features=finTech_appData2.columns\n",
    "for i,j in enumerate(features):\n",
    "    plt.subplot(3,3,i+1)\n",
    "    \n",
    "    plt.title(\"Histogram of {}\".format(j),fontsize=13)\n",
    "    \n",
    "    bins=len(finTech_appData2[j].unique()  )\n",
    "    plt.hist(  finTech_appData2[j],  bins=bins , rwidth=0.9,  edgecolor='r',  linewidth=2,  )\n",
    "    plt.subplots_adjust(hspace=0.4) #spaces between horizontal axis "
   ]
  },
  {
   "cell_type": "markdown",
   "id": "31a60a72",
   "metadata": {},
   "source": [
    "In above histogram we can observe  \n",
    "minigame ,used_premium_feature,enrolled and like they have only two values and how they distributed "
   ]
  },
  {
   "cell_type": "markdown",
   "id": "f6c3c459",
   "metadata": {},
   "source": [
    "the histogram illustrate that\n",
    "\n",
    "1.'dayofweek' shows on tuesday and wednesday slightly fewer customer registered the app \n",
    "\n",
    "2.'hour' shows the less customer register on the app areoung 10 am\n",
    "\n",
    "3.'age ' histogram show the maximum customer are younger people age btw 21-30\n",
    "\n",
    "4.'numscreens'' histogram show the few customer saw more then 40 screens"
   ]
  },
  {
   "cell_type": "markdown",
   "id": "641a9247",
   "metadata": {},
   "source": [
    "for i,j in enumerate(features):\n",
    "    print(i,j)"
   ]
  },
  {
   "cell_type": "code",
   "execution_count": null,
   "id": "f5625d47",
   "metadata": {},
   "outputs": [],
   "source": []
  },
  {
   "cell_type": "markdown",
   "id": "e387d210",
   "metadata": {},
   "source": [
    "finTech_appData2.head()"
   ]
  },
  {
   "cell_type": "markdown",
   "id": "63b267d8",
   "metadata": {},
   "source": [
    "finTech_appData3.head()"
   ]
  },
  {
   "cell_type": "code",
   "execution_count": null,
   "id": "ef5abd73",
   "metadata": {},
   "outputs": [],
   "source": []
  },
  {
   "cell_type": "markdown",
   "id": "65e15216",
   "metadata": {},
   "source": [
    "# correlation bar plot with enrolled feature"
   ]
  },
  {
   "cell_type": "code",
   "execution_count": null,
   "id": "231380e2",
   "metadata": {},
   "outputs": [],
   "source": [
    "# show corelation barplot \n",
    "import seaborn as sns\n",
    "sns.set() # set background dark grid\n",
    "plt.figure(figsize = (14,5))\n",
    "plt.title(\"Correlation all features with 'enrolled' \", fontsize = 20)\n",
    "finTech_appData3=finTech_appData2.drop( [\"enrolled\"],axis=1) # drop 'enrolled' feature\n",
    "ax =sns.barplot( finTech_appData3.columns ,  finTech_appData3.corrwith(finTech_appData2.enrolled))     # plot barplot \n",
    "ax.tick_params(labelsize=15, labelrotation = 20, color =\"r\") # decorate x & y ticks font\n"
   ]
  },
  {
   "cell_type": "markdown",
   "id": "f93e755a",
   "metadata": {},
   "source": [
    "We saw the heatmap correlation matrix but this was not showing correlation \n",
    "clearly but you can easily understand which feature is how much correlated with ‘enrolled’ feature using the above barplot.\n",
    "\n",
    "The ‘numscreens’ and ‘minigame’ is strongly positively correlated with ‘enrolled’ feature than other feature.\n",
    "\n",
    "The ‘hour’, ‘age’ and ‘used_premium_feature’ are strongly negatively correlated with the ‘enrolled’ feature."
   ]
  },
  {
   "cell_type": "code",
   "execution_count": null,
   "id": "a4963fd8",
   "metadata": {},
   "outputs": [],
   "source": [
    "finTech_appData.dtypes"
   ]
  },
  {
   "cell_type": "code",
   "execution_count": null,
   "id": "c8949c69",
   "metadata": {},
   "outputs": [],
   "source": []
  },
  {
   "cell_type": "code",
   "execution_count": null,
   "id": "30472bd3",
   "metadata": {},
   "outputs": [],
   "source": [
    "#if the data type is not have been converted in datetime format then i would have use this\n",
    "finTech_appData['first_open'] =[parser.parse(i) for i in finTech_appData['first_open']]\n",
    " \n",
    "finTech_appData['enrolled_date'] =[parser.parse(i) if isinstance(i, str) \n",
    "                                   else \n",
    "                                   i for i in finTech_appData['enrolled_date']]\n"
   ]
  },
  {
   "cell_type": "code",
   "execution_count": null,
   "id": "882df9b4",
   "metadata": {},
   "outputs": [],
   "source": []
  },
  {
   "cell_type": "code",
   "execution_count": null,
   "id": "ba00714c",
   "metadata": {},
   "outputs": [],
   "source": [
    "finTech_appData.dtypes"
   ]
  },
  {
   "cell_type": "code",
   "execution_count": null,
   "id": "f78e9f51",
   "metadata": {},
   "outputs": [],
   "source": []
  },
  {
   "cell_type": "markdown",
   "id": "4ea578cc",
   "metadata": {},
   "source": [
    "We are finding how much time the customer takes to get enrolled in the premium feature app after registration.\n",
    "For that subtract ‘fineTech_appData.first_open’ from ‘fineTech_appData.enrolled_date’ and \n",
    "set data type as timedelta64 in hours."
   ]
  },
  {
   "cell_type": "code",
   "execution_count": null,
   "id": "13d81389",
   "metadata": {
    "scrolled": true
   },
   "outputs": [],
   "source": [
    "\n",
    "finTech_appData['time_to_enrolled']  = (finTech_appData.enrolled_date - finTech_appData.first_open).astype('timedelta64[h]')\n"
   ]
  },
  {
   "cell_type": "code",
   "execution_count": null,
   "id": "af60dc4e",
   "metadata": {},
   "outputs": [],
   "source": [
    "plt.hist(finTech_appData['time_to_enrolled'].dropna())"
   ]
  },
  {
   "cell_type": "code",
   "execution_count": null,
   "id": "42d2e53e",
   "metadata": {},
   "outputs": [],
   "source": [
    "plt.hist(finTech_appData['time_to_enrolled'].dropna(),range=(0,100))"
   ]
  },
  {
   "cell_type": "code",
   "execution_count": null,
   "id": "ceb0d6e7",
   "metadata": {},
   "outputs": [],
   "source": [
    "finTech_appData.head()\n"
   ]
  },
  {
   "cell_type": "markdown",
   "id": "a6c94ea9",
   "metadata": {},
   "source": [
    "In the above histogram, we know the maximum customers have enrolled the app in 10 hours from the registration."
   ]
  },
  {
   "cell_type": "markdown",
   "id": "4a27b1b9",
   "metadata": {},
   "source": [
    "# Feature selection"
   ]
  },
  {
   "cell_type": "code",
   "execution_count": null,
   "id": "cd5d5491",
   "metadata": {},
   "outputs": [],
   "source": [
    "#We are considering those customers have enrolled after 48 hours as 0"
   ]
  },
  {
   "cell_type": "code",
   "execution_count": null,
   "id": "d29c944f",
   "metadata": {},
   "outputs": [],
   "source": [
    "finTech_appData.loc[ finTech_appData.time_to_enrolled > 48,'enrolled']=0\n",
    "finTech_appData.head()"
   ]
  },
  {
   "cell_type": "code",
   "execution_count": null,
   "id": "987e595a",
   "metadata": {},
   "outputs": [],
   "source": [
    "finTech_appData.drop(columns=['first_open','enrolled_date','time_to_enrolled'],inplace=True)"
   ]
  },
  {
   "cell_type": "code",
   "execution_count": null,
   "id": "3cad3b3a",
   "metadata": {},
   "outputs": [],
   "source": [
    "finTech_appData"
   ]
  },
  {
   "cell_type": "markdown",
   "id": "243b4d57",
   "metadata": {},
   "source": [
    "## here we upload new file \"top_screens.csv\""
   ]
  },
  {
   "cell_type": "code",
   "execution_count": null,
   "id": "54d3400c",
   "metadata": {
    "scrolled": true
   },
   "outputs": [],
   "source": [
    "finTech_app_screen_Data=pd.read_csv(\"top_screens.csv\")\n",
    "finTech_app_screen_Data.head()"
   ]
  },
  {
   "cell_type": "markdown",
   "id": "a83c8e94",
   "metadata": {},
   "source": []
  },
  {
   "cell_type": "code",
   "execution_count": null,
   "id": "ce85e4cb",
   "metadata": {},
   "outputs": [],
   "source": [
    "# read csv file and convert it into numpy array \n",
    "finTech_app_screen_Data=pd.read_csv(\"top_screens.csv\").top_screens.values\n",
    "finTech_app_screen_Data"
   ]
  },
  {
   "cell_type": "code",
   "execution_count": null,
   "id": "5609a349",
   "metadata": {},
   "outputs": [],
   "source": [
    "type(finTech_app_screen_Data)\n"
   ]
  },
  {
   "cell_type": "code",
   "execution_count": null,
   "id": "310d5452",
   "metadata": {},
   "outputs": [],
   "source": [
    "#add ',' at end of the each string of 'screen_list' for further operation"
   ]
  },
  {
   "cell_type": "code",
   "execution_count": null,
   "id": "8d49a35c",
   "metadata": {},
   "outputs": [],
   "source": [
    "\n",
    "finTech_appData['screen_list'] = finTech_appData.screen_list.astype(str) + ','"
   ]
  },
  {
   "cell_type": "code",
   "execution_count": null,
   "id": "894c74ad",
   "metadata": {},
   "outputs": [],
   "source": [
    "#The ‘Screen_list’ contains string values but we can’t use it directly. "
   ]
  },
  {
   "cell_type": "code",
   "execution_count": null,
   "id": "8ff488f6",
   "metadata": {},
   "outputs": [],
   "source": [
    "#So to solve this problem we are taking each screen name from ‘finTech_app_screen_Data’ and \n",
    "#append as a column by the same name to ‘finTech_appData’\n",
    "#Then check this screen name is available in ‘screen_list’ \n",
    "\n",
    "#if it is available then add value 1 else 0 in the appended column."
   ]
  },
  {
   "cell_type": "code",
   "execution_count": null,
   "id": "16e260fb",
   "metadata": {},
   "outputs": [],
   "source": [
    "# string into to number\n",
    "for screen_name in finTech_app_screen_Data:\n",
    "    finTech_appData[screen_name] = finTech_appData.screen_list.str.contains(screen_name).astype(int)\n",
    "    finTech_appData['screen_list'] = finTech_appData.screen_list.str.replace(screen_name+\",\", \"\")"
   ]
  },
  {
   "cell_type": "code",
   "execution_count": null,
   "id": "220d051d",
   "metadata": {},
   "outputs": [],
   "source": []
  },
  {
   "cell_type": "code",
   "execution_count": null,
   "id": "23b64893",
   "metadata": {},
   "outputs": [],
   "source": [
    "finTech_appData.loc[0,'screen_list']"
   ]
  },
  {
   "cell_type": "code",
   "execution_count": null,
   "id": "09c86e7e",
   "metadata": {},
   "outputs": [],
   "source": [
    "finTech_appData.screen_list.str.contains('Splash').astype(int)"
   ]
  },
  {
   "cell_type": "code",
   "execution_count": null,
   "id": "451082ef",
   "metadata": {},
   "outputs": [],
   "source": [
    "finTech_appData.screen_list.str.replace('Splash'+\",\",\"\")"
   ]
  },
  {
   "cell_type": "code",
   "execution_count": null,
   "id": "7a1dc112",
   "metadata": {},
   "outputs": [],
   "source": [
    "\n",
    "# get shape\n",
    "finTech_appData.shape"
   ]
  },
  {
   "cell_type": "code",
   "execution_count": null,
   "id": "d8c6aaf4",
   "metadata": {},
   "outputs": [],
   "source": [
    "# head of DataFrame\n",
    "finTech_appData.head(6)"
   ]
  },
  {
   "cell_type": "code",
   "execution_count": null,
   "id": "6d5377db",
   "metadata": {},
   "outputs": [],
   "source": [
    "# remain screen in 'screen_list'\n",
    "finTech_appData.loc[0,'screen_list']"
   ]
  },
  {
   "cell_type": "code",
   "execution_count": null,
   "id": "1250bdd3",
   "metadata": {},
   "outputs": [],
   "source": [
    "# count remain screen list and store counted number in 'remain_screen_list'\n",
    " \n",
    "finTech_appData.screen_list.str.count(\",\").head(6)\n"
   ]
  },
  {
   "cell_type": "code",
   "execution_count": null,
   "id": "4feb677e",
   "metadata": {},
   "outputs": [],
   "source": [
    "finTech_appData['remain_screen_list']=finTech_appData.screen_list.str.count(\",\")"
   ]
  },
  {
   "cell_type": "code",
   "execution_count": null,
   "id": "580c64bc",
   "metadata": {},
   "outputs": [],
   "source": [
    "finTech_appData.drop(columns=['screen_list'],inplace=True)"
   ]
  },
  {
   "cell_type": "code",
   "execution_count": null,
   "id": "bed81d39",
   "metadata": {},
   "outputs": [],
   "source": [
    "finTech_appData"
   ]
  },
  {
   "cell_type": "code",
   "execution_count": null,
   "id": "c20b0355",
   "metadata": {},
   "outputs": [],
   "source": [
    "finTech_appData.columns"
   ]
  },
  {
   "cell_type": "code",
   "execution_count": null,
   "id": "65e36e3e",
   "metadata": {},
   "outputs": [],
   "source": [
    "# take sum of all saving screen in one place\n",
    "saving_screens = ['Saving1',\n",
    "                  'Saving2',\n",
    "                  'Saving2Amount',\n",
    "                  'Saving4',\n",
    "                  'Saving5',\n",
    "                  'Saving6',\n",
    "                  'Saving7',\n",
    "                  'Saving8',\n",
    "                  'Saving9',\n",
    "                  'Saving10',\n",
    "                 ]\n",
    "\n",
    "finTech_appData['saving_screens_count'] = finTech_appData[saving_screens].sum(axis = 1)\n",
    "\n",
    "finTech_appData.drop(columns = saving_screens, inplace = True)\n"
   ]
  },
  {
   "cell_type": "code",
   "execution_count": null,
   "id": "597ee5ef",
   "metadata": {},
   "outputs": [],
   "source": [
    "credit_screens = ['Credit1',\n",
    "                  'Credit2',\n",
    "                  'Credit3',\n",
    "                  'Credit3Container',\n",
    "                  'Credit3Dashboard',\n",
    "                 ]\n",
    "finTech_appData['credit_screens_count'] = finTech_appData[credit_screens].sum(axis = 1)\n",
    "finTech_appData.drop(columns = credit_screens, axis = 1, inplace = True)"
   ]
  },
  {
   "cell_type": "code",
   "execution_count": null,
   "id": "e9ef892d",
   "metadata": {},
   "outputs": [],
   "source": [
    "cc_screens = ['CC1',\n",
    "              'CC1Category',\n",
    "              'CC3',\n",
    "             ]\n",
    "finTech_appData['cc_screens_count'] = finTech_appData[cc_screens].sum(axis = 1)\n",
    "finTech_appData.drop(columns = cc_screens, inplace = True)"
   ]
  },
  {
   "cell_type": "code",
   "execution_count": null,
   "id": "1b9f59a2",
   "metadata": {},
   "outputs": [],
   "source": [
    "finTech_appData.shape"
   ]
  },
  {
   "cell_type": "code",
   "execution_count": null,
   "id": "413385f7",
   "metadata": {},
   "outputs": [],
   "source": [
    "finTech_appData.info()"
   ]
  },
  {
   "cell_type": "code",
   "execution_count": null,
   "id": "e1080294",
   "metadata": {},
   "outputs": [],
   "source": [
    "finTech_appData.describe()"
   ]
  },
  {
   "cell_type": "code",
   "execution_count": null,
   "id": "5842b358",
   "metadata": {
    "scrolled": true
   },
   "outputs": [],
   "source": [
    "plt.figure(figsize=(25,16))\n",
    "sns.heatmap(finTech_appData.corr(),annot=True,linewidth=2)"
   ]
  },
  {
   "cell_type": "code",
   "execution_count": null,
   "id": "0bd9664f",
   "metadata": {},
   "outputs": [],
   "source": [
    "finTech_appData.columns"
   ]
  },
  {
   "cell_type": "code",
   "execution_count": null,
   "id": "dbc41e7c",
   "metadata": {},
   "outputs": [],
   "source": []
  },
  {
   "cell_type": "markdown",
   "id": "75b6dcec",
   "metadata": {},
   "source": [
    "# Data preprocessing\n",
    "Split dataset in Train and Test"
   ]
  },
  {
   "cell_type": "code",
   "execution_count": null,
   "id": "d9c2633b",
   "metadata": {},
   "outputs": [],
   "source": [
    "clean_finTech_appData = finTech_appData\n",
    "target = finTech_appData['enrolled']\n",
    "finTech_appData.drop(columns = 'enrolled', inplace = True)"
   ]
  },
  {
   "cell_type": "code",
   "execution_count": null,
   "id": "7bd80729",
   "metadata": {},
   "outputs": [],
   "source": [
    "from sklearn.model_selection import train_test_split\n",
    "X_train, X_test, y_train, y_test = train_test_split(finTech_appData, target, test_size = 0.2, random_state = 0)\n"
   ]
  },
  {
   "cell_type": "code",
   "execution_count": null,
   "id": "c1121165",
   "metadata": {},
   "outputs": [],
   "source": [
    "print('Shape of X_train = ', X_train.shape)\n",
    "print('Shape of X_test = ', X_test.shape)\n",
    "print('Shape of y_train = ', y_train.shape)\n",
    "print('Shape of y_test = ', y_test.shape)"
   ]
  },
  {
   "cell_type": "code",
   "execution_count": null,
   "id": "d1375d01",
   "metadata": {},
   "outputs": [],
   "source": [
    "# take User ID in another variable \n",
    "train_userID = X_train['user']\n",
    "X_train.drop(columns= 'user', inplace =True)\n",
    "\n",
    "test_userID = X_test['user']\n",
    "X_test.drop(columns= 'user', inplace =True)\n"
   ]
  },
  {
   "cell_type": "code",
   "execution_count": null,
   "id": "f6c3a4f4",
   "metadata": {},
   "outputs": [],
   "source": [
    "print('Shape of X_train = ', X_train.shape)\n",
    "print('Shape of X_test = ', X_test.shape)\n",
    "print('Shape of train_userID = ', train_userID.shape)\n",
    "print('Shape of test_userID = ', test_userID.shape)"
   ]
  },
  {
   "cell_type": "code",
   "execution_count": null,
   "id": "1b02b204",
   "metadata": {},
   "outputs": [],
   "source": []
  },
  {
   "cell_type": "markdown",
   "id": "46e8ef2d",
   "metadata": {},
   "source": [
    "# Feature Scaling"
   ]
  },
  {
   "cell_type": "code",
   "execution_count": null,
   "id": "f59a968e",
   "metadata": {},
   "outputs": [],
   "source": [
    "#The multiple features in the different units so\n",
    "#for the best accuracy need to convert all features in a single unit."
   ]
  },
  {
   "cell_type": "code",
   "execution_count": null,
   "id": "4c40281f",
   "metadata": {},
   "outputs": [],
   "source": [
    "from sklearn.preprocessing import StandardScaler\n",
    "sc = StandardScaler()\n",
    "X_train_sc = sc.fit_transform(X_train)\n",
    "X_test_sc = sc.transform(X_test)"
   ]
  },
  {
   "cell_type": "code",
   "execution_count": null,
   "id": "cd4310f0",
   "metadata": {},
   "outputs": [],
   "source": []
  },
  {
   "cell_type": "code",
   "execution_count": null,
   "id": "edc47914",
   "metadata": {},
   "outputs": [],
   "source": []
  },
  {
   "cell_type": "markdown",
   "id": "88aae297",
   "metadata": {},
   "source": [
    "# Machine Learning Model Building"
   ]
  },
  {
   "cell_type": "code",
   "execution_count": null,
   "id": "ff9afcf0",
   "metadata": {},
   "outputs": [],
   "source": []
  },
  {
   "cell_type": "markdown",
   "id": "38e4d687",
   "metadata": {},
   "source": [
    "The target variable is categorical type 0 and 1, so we have to use supervised classification algorithms.\n",
    "\n",
    "To build the best model, we have to train and test the dataset with multiple Machine Learning algorithms then we can find the best ML model. So let’s try.\n",
    "\n",
    "First, we import the required packages."
   ]
  },
  {
   "cell_type": "markdown",
   "id": "3213777b",
   "metadata": {},
   "source": [
    "# Model building "
   ]
  },
  {
   "cell_type": "code",
   "execution_count": null,
   "id": "e1c2347d",
   "metadata": {},
   "outputs": [],
   "source": [
    "# import required packages\n",
    "\n",
    "from sklearn.metrics import confusion_matrix, classification_report, accuracy_score\n"
   ]
  },
  {
   "cell_type": "code",
   "execution_count": null,
   "id": "03307569",
   "metadata": {},
   "outputs": [],
   "source": []
  },
  {
   "cell_type": "markdown",
   "id": "3c89510d",
   "metadata": {},
   "source": [
    "# Decision Tree "
   ]
  },
  {
   "cell_type": "code",
   "execution_count": null,
   "id": "fe7d5d8a",
   "metadata": {},
   "outputs": [],
   "source": [
    "# Decision Tree Classifier\n",
    "from sklearn.tree import DecisionTreeClassifier\n",
    "dt_model = DecisionTreeClassifier(criterion= 'entropy', random_state=0)\n",
    "dt_model.fit(X_train, y_train)\n",
    "y_pred_dt = dt_model.predict(X_test)\n",
    "\n",
    "accuracy_score(y_test,y_pred_dt)\n"
   ]
  },
  {
   "cell_type": "code",
   "execution_count": null,
   "id": "3bd13870",
   "metadata": {},
   "outputs": [],
   "source": [
    "# train with Standert Scaling dataset\n",
    "dt_model2 = DecisionTreeClassifier(criterion= 'entropy', random_state=0)\n",
    "dt_model2.fit(X_train_sc, y_train)\n",
    "y_pred_dt_sc = dt_model2.predict(X_test_sc)\n",
    "accuracy_score(y_test, y_pred_dt_sc)"
   ]
  },
  {
   "cell_type": "code",
   "execution_count": null,
   "id": "5ebfe9b5",
   "metadata": {},
   "outputs": [],
   "source": []
  },
  {
   "cell_type": "markdown",
   "id": "3891c756",
   "metadata": {},
   "source": [
    "# K – Nearest Neighbor Classifier"
   ]
  },
  {
   "cell_type": "code",
   "execution_count": null,
   "id": "2460d854",
   "metadata": {},
   "outputs": [],
   "source": [
    "from sklearn.neighbors import KNeighborsClassifier\n",
    "knn_model = KNeighborsClassifier(n_neighbors=5, metric='minkowski', p=2,)\n",
    "knn_model.fit(X_train, y_train)\n",
    "y_pred_knn = knn_model.predict(X_test)\n",
    " \n",
    "accuracy_score(y_test, y_pred_knn)"
   ]
  },
  {
   "cell_type": "code",
   "execution_count": null,
   "id": "ca861aca",
   "metadata": {},
   "outputs": [],
   "source": []
  },
  {
   "cell_type": "code",
   "execution_count": null,
   "id": "17d97652",
   "metadata": {},
   "outputs": [],
   "source": [
    "# train with Standert Scaling dataset\n",
    "knn_model2 = KNeighborsClassifier(n_neighbors=5, metric='minkowski', p=2,)\n",
    "knn_model2.fit(X_train_sc, y_train)\n",
    "y_pred_knn_sc = knn_model2.predict(X_test_sc)\n",
    " \n",
    "accuracy_score(y_test, y_pred_knn_sc)"
   ]
  },
  {
   "cell_type": "code",
   "execution_count": null,
   "id": "57857e23",
   "metadata": {},
   "outputs": [],
   "source": []
  },
  {
   "cell_type": "markdown",
   "id": "ec65d8e5",
   "metadata": {},
   "source": [
    "# Naive Bayes Classifier"
   ]
  },
  {
   "cell_type": "code",
   "execution_count": null,
   "id": "c2840249",
   "metadata": {},
   "outputs": [],
   "source": [
    "# Naive Bayes\n",
    "from sklearn.naive_bayes import GaussianNB\n",
    "nb_model = GaussianNB()\n",
    "nb_model.fit(X_train, y_train)\n",
    "y_pred_nb = nb_model.predict(X_test)\n",
    " \n",
    "accuracy_score(y_test, y_pred_nb)"
   ]
  },
  {
   "cell_type": "code",
   "execution_count": null,
   "id": "c11d526d",
   "metadata": {},
   "outputs": [],
   "source": []
  },
  {
   "cell_type": "code",
   "execution_count": null,
   "id": "2caf2b0e",
   "metadata": {},
   "outputs": [],
   "source": [
    "# train with Standert Scaling dataset\n",
    "nb_model2 = GaussianNB()\n",
    "nb_model2.fit(X_train_sc, y_train)\n",
    "y_pred_nb_sc = nb_model2.predict(X_test_sc)\n",
    " \n",
    "accuracy_score(y_test, y_pred_nb_sc)"
   ]
  },
  {
   "cell_type": "code",
   "execution_count": null,
   "id": "848dcd34",
   "metadata": {},
   "outputs": [],
   "source": []
  },
  {
   "cell_type": "markdown",
   "id": "9560967b",
   "metadata": {},
   "source": [
    "# Random Forest Classifier"
   ]
  },
  {
   "cell_type": "code",
   "execution_count": null,
   "id": "2207b6be",
   "metadata": {},
   "outputs": [],
   "source": [
    "# Random Forest Classifier\n",
    "from sklearn.ensemble import RandomForestClassifier\n",
    "rf_model = RandomForestClassifier(n_estimators=10, criterion='entropy', random_state=0)\n",
    "rf_model.fit(X_train, y_train)\n",
    "y_pred_rf = rf_model.predict(X_test)\n",
    " \n",
    "accuracy_score(y_test, y_pred_rf)"
   ]
  },
  {
   "cell_type": "code",
   "execution_count": null,
   "id": "47308b24",
   "metadata": {},
   "outputs": [],
   "source": []
  },
  {
   "cell_type": "code",
   "execution_count": null,
   "id": "00e30da3",
   "metadata": {},
   "outputs": [],
   "source": [
    "# train with Standert Scaling dataset\n",
    "rf_model2 = RandomForestClassifier(n_estimators=10, criterion='entropy', random_state=0)\n",
    "rf_model2.fit(X_train_sc, y_train)\n",
    "y_pred_rf_sc = rf_model2.predict(X_test_sc)\n",
    " \n",
    "accuracy_score(y_test, y_pred_rf_sc)"
   ]
  },
  {
   "cell_type": "code",
   "execution_count": null,
   "id": "d2351adb",
   "metadata": {},
   "outputs": [],
   "source": []
  },
  {
   "cell_type": "markdown",
   "id": "a2ef0708",
   "metadata": {},
   "source": [
    "# Logistic Regression"
   ]
  },
  {
   "cell_type": "code",
   "execution_count": null,
   "id": "f2fafb5f",
   "metadata": {},
   "outputs": [],
   "source": [
    "# Logistic Regression\n",
    "from sklearn.linear_model import LogisticRegression\n",
    "lr_model = LogisticRegression(random_state = 0 )\n",
    "lr_model.fit(X_train,y_train)\n",
    "y_pred_lr = lr_model.predict(X_test)\n",
    " \n",
    "accuracy_score(y_test, y_pred_lr)"
   ]
  },
  {
   "cell_type": "code",
   "execution_count": null,
   "id": "cc404f79",
   "metadata": {},
   "outputs": [],
   "source": [
    "# train with Standert Scaling dataset\n",
    "lr_model2 = LogisticRegression(random_state = 0, )\n",
    "lr_model2.fit(X_train_sc, y_train)\n",
    "y_pred_lr_sc = lr_model2.predict(X_test_sc)\n",
    " \n",
    "accuracy_score(y_test, y_pred_lr_sc)"
   ]
  },
  {
   "cell_type": "code",
   "execution_count": null,
   "id": "9b331c89",
   "metadata": {},
   "outputs": [],
   "source": []
  },
  {
   "cell_type": "markdown",
   "id": "d8db8709",
   "metadata": {},
   "source": [
    "# Support Vector Classifier"
   ]
  },
  {
   "cell_type": "code",
   "execution_count": null,
   "id": "abcf5fe0",
   "metadata": {},
   "outputs": [],
   "source": [
    "# Support Vector Machine\n",
    "from sklearn.svm import SVC\n",
    "svc_model = SVC()\n",
    "svc_model.fit(X_train, y_train)\n",
    "y_pred_svc = svc_model.predict(X_test)\n",
    "\n",
    "accuracy_score(y_test, y_pred_svc)"
   ]
  },
  {
   "cell_type": "code",
   "execution_count": null,
   "id": "d3e83972",
   "metadata": {},
   "outputs": [],
   "source": []
  },
  {
   "cell_type": "code",
   "execution_count": null,
   "id": "efe81d32",
   "metadata": {},
   "outputs": [],
   "source": [
    "# train with Standard Scaling dataset\n",
    "svc_model2 = SVC()\n",
    "svc_model2.fit(X_train_sc, y_train)\n",
    "y_pred_svc_sc = svc_model2.predict(X_test_sc)\n",
    " \n",
    "accuracy_score(y_test, y_pred_svc_sc)"
   ]
  },
  {
   "cell_type": "code",
   "execution_count": null,
   "id": "cbcaffbd",
   "metadata": {},
   "outputs": [],
   "source": []
  },
  {
   "cell_type": "markdown",
   "id": "59d4eb72",
   "metadata": {},
   "source": [
    "# XGBoost Classifier"
   ]
  },
  {
   "cell_type": "code",
   "execution_count": null,
   "id": "5fffe76b",
   "metadata": {},
   "outputs": [],
   "source": [
    "# XGBoost Classifier\n",
    "from xgboost import XGBClassifier\n",
    "xgb_model = XGBClassifier()\n",
    "xgb_model.fit(X_train, y_train)\n",
    "y_pred_xgb = xgb_model.predict(X_test)\n",
    "accuracy_score(y_test, y_pred_xgb)"
   ]
  },
  {
   "cell_type": "code",
   "execution_count": null,
   "id": "43ac6b78",
   "metadata": {},
   "outputs": [],
   "source": []
  },
  {
   "cell_type": "code",
   "execution_count": null,
   "id": "3741934e",
   "metadata": {},
   "outputs": [],
   "source": [
    "# train with Standert Scaling dataset\n",
    "xgb_model2 = XGBClassifier()\n",
    "xgb_model2.fit(X_train_sc, y_train)\n",
    "y_pred_xgb_sc = xgb_model2.predict(X_test_sc)\n",
    " \n",
    "accuracy_score(y_test, y_pred_xgb_sc)"
   ]
  },
  {
   "cell_type": "code",
   "execution_count": null,
   "id": "df6bf951",
   "metadata": {},
   "outputs": [],
   "source": []
  },
  {
   "cell_type": "code",
   "execution_count": null,
   "id": "707e1b8e",
   "metadata": {},
   "outputs": [],
   "source": [
    "# XGB classifier with parameter tuning\n",
    "xgb_model_pt1 = XGBClassifier(\n",
    " learning_rate =0.01,\n",
    " n_estimators=5000,\n",
    " max_depth=4,\n",
    " min_child_weight=6,\n",
    " gamma=0,\n",
    " subsample=0.8,\n",
    " colsample_bytree=0.8,\n",
    " reg_alpha=0.005,\n",
    " objective= 'binary:logistic',\n",
    " nthread=4,\n",
    " scale_pos_weight=1,\n",
    " seed=27)\n",
    " \n",
    "xgb_model_pt1.fit(X_train, y_train)\n",
    "y_pred_xgb_pt1 = xgb_model_pt1.predict(X_test)\n",
    " \n",
    "accuracy_score(y_test, y_pred_xgb_pt1)"
   ]
  },
  {
   "cell_type": "code",
   "execution_count": null,
   "id": "c5e3eb4e",
   "metadata": {},
   "outputs": [],
   "source": []
  },
  {
   "cell_type": "code",
   "execution_count": null,
   "id": "6388651c",
   "metadata": {},
   "outputs": [],
   "source": [
    "# XGB classifier with parameter tuning\n",
    "# train with Stander Scaling dataset\n",
    "xgb_model_pt2 = XGBClassifier(\n",
    " learning_rate =0.01,\n",
    " n_estimators=5000,\n",
    " max_depth=4,\n",
    " min_child_weight=6,\n",
    " gamma=0,\n",
    " subsample=0.8,\n",
    " colsample_bytree=0.8,\n",
    " reg_alpha=0.005,\n",
    " objective= 'binary:logistic',\n",
    " nthread=4,\n",
    " scale_pos_weight=1,\n",
    " seed=27)\n",
    " \n",
    "xgb_model_pt2.fit(X_train_sc, y_train)\n",
    "y_pred_xgb_sc_pt2 = xgb_model_pt2.predict(X_test_sc)\n",
    " \n",
    "accuracy_score(y_test, y_pred_xgb_sc_pt2)"
   ]
  },
  {
   "cell_type": "code",
   "execution_count": null,
   "id": "b78b7198",
   "metadata": {},
   "outputs": [],
   "source": []
  },
  {
   "cell_type": "markdown",
   "id": "a4cea4c6",
   "metadata": {},
   "source": [
    "We observ that Support Vector Classifier and XGBoost Classifier\n",
    "give best accuracy than ohter ML algorithm. But we will \n",
    "continue with XGBoost classifier \n",
    "because the accuracy is slightly higher than SVC."
   ]
  },
  {
   "cell_type": "code",
   "execution_count": null,
   "id": "6beb22c8",
   "metadata": {},
   "outputs": [],
   "source": []
  },
  {
   "cell_type": "markdown",
   "id": "d00a32b4",
   "metadata": {},
   "source": [
    "# Confusion Matrix"
   ]
  },
  {
   "cell_type": "code",
   "execution_count": null,
   "id": "96ef178a",
   "metadata": {},
   "outputs": [],
   "source": [
    "# confussion matrix\n",
    "cm_xgb_pt2 = confusion_matrix(y_test, y_pred_xgb_sc_pt2)\n",
    "sns.heatmap(cm_xgb_pt2, annot = True, fmt = 'g')\n",
    "plt.title(\"Confussion Matrix\", fontsize = 20)"
   ]
  },
  {
   "cell_type": "code",
   "execution_count": null,
   "id": "9b758aa4",
   "metadata": {},
   "outputs": [],
   "source": [
    "The model is giving type II error higher than type I."
   ]
  },
  {
   "cell_type": "code",
   "execution_count": null,
   "id": "6054a0b2",
   "metadata": {},
   "outputs": [],
   "source": []
  },
  {
   "cell_type": "code",
   "execution_count": null,
   "id": "41d8915f",
   "metadata": {},
   "outputs": [],
   "source": [
    "Classification report of ML model"
   ]
  },
  {
   "cell_type": "code",
   "execution_count": null,
   "id": "c78a06de",
   "metadata": {},
   "outputs": [],
   "source": [
    "# Clasification Report\n",
    "cr_xgb_pt2 = classification_report(y_test, y_pred_xgb_sc_pt2)\n",
    " \n",
    "print(\"Classification report >>> \\n\", cr_xgb_pt2)"
   ]
  },
  {
   "cell_type": "code",
   "execution_count": null,
   "id": "844e80ef",
   "metadata": {},
   "outputs": [],
   "source": []
  },
  {
   "cell_type": "code",
   "execution_count": null,
   "id": "680fe5d7",
   "metadata": {},
   "outputs": [],
   "source": [
    "Cross-validation of the ML model"
   ]
  },
  {
   "cell_type": "code",
   "execution_count": null,
   "id": "7426dc9a",
   "metadata": {},
   "outputs": [],
   "source": [
    "To find the ML model is overfitted, under fitted or \n",
    "generalize doing cross-validation."
   ]
  },
  {
   "cell_type": "code",
   "execution_count": null,
   "id": "0d8e1548",
   "metadata": {},
   "outputs": [],
   "source": []
  },
  {
   "cell_type": "code",
   "execution_count": null,
   "id": "45fcdeaa",
   "metadata": {},
   "outputs": [],
   "source": [
    "# Cross validation\n",
    "from sklearn.model_selection import cross_val_score\n",
    "cross_validation = cross_val_score(estimator = xgb_model_pt2, X = X_train_sc, y = y_train, cv = 10)\n",
    "print(\"Cross validation of XGBoost model = \",cross_validation)\n",
    "print(\"Cross validation of XGBoost model (in mean) = \",cross_validation.mean())"
   ]
  },
  {
   "cell_type": "markdown",
   "id": "8abe5ff8",
   "metadata": {},
   "source": [
    "The mean value cross-validation and XGBoost model accuracy is 78%.\n",
    "That means our XGBoost model is a generalized model."
   ]
  },
  {
   "cell_type": "code",
   "execution_count": null,
   "id": "a48a30cd",
   "metadata": {},
   "outputs": [],
   "source": []
  },
  {
   "cell_type": "code",
   "execution_count": null,
   "id": "a2f5cf0a",
   "metadata": {},
   "outputs": [],
   "source": [
    "Mapping predicted output to the target"
   ]
  },
  {
   "cell_type": "code",
   "execution_count": null,
   "id": "a7e2ba0a",
   "metadata": {},
   "outputs": [],
   "source": [
    "In the below output, you can find\n",
    "the predicted output by model and actual target output."
   ]
  },
  {
   "cell_type": "code",
   "execution_count": null,
   "id": "2b3fd264",
   "metadata": {},
   "outputs": [],
   "source": [
    "final_result = pd.concat([test_userID, y_test], axis = 1)\n",
    "final_result['predicted result'] = y_pred_xgb_sc_pt2\n",
    " \n",
    "print(final_result)"
   ]
  },
  {
   "cell_type": "code",
   "execution_count": null,
   "id": "b4df3405",
   "metadata": {},
   "outputs": [],
   "source": []
  },
  {
   "cell_type": "code",
   "execution_count": null,
   "id": "f26a3971",
   "metadata": {},
   "outputs": [],
   "source": []
  },
  {
   "cell_type": "code",
   "execution_count": null,
   "id": "dd5a5861",
   "metadata": {},
   "outputs": [],
   "source": []
  },
  {
   "cell_type": "code",
   "execution_count": null,
   "id": "20869fe3",
   "metadata": {},
   "outputs": [],
   "source": []
  },
  {
   "cell_type": "code",
   "execution_count": null,
   "id": "8aae7767",
   "metadata": {},
   "outputs": [],
   "source": []
  },
  {
   "cell_type": "code",
   "execution_count": null,
   "id": "7b65dc76",
   "metadata": {},
   "outputs": [],
   "source": []
  }
 ],
 "metadata": {
  "kernelspec": {
   "display_name": "Python 3 (ipykernel)",
   "language": "python",
   "name": "python3"
  },
  "language_info": {
   "codemirror_mode": {
    "name": "ipython",
    "version": 3
   },
   "file_extension": ".py",
   "mimetype": "text/x-python",
   "name": "python",
   "nbconvert_exporter": "python",
   "pygments_lexer": "ipython3",
   "version": "3.9.7"
  }
 },
 "nbformat": 4,
 "nbformat_minor": 5
}
